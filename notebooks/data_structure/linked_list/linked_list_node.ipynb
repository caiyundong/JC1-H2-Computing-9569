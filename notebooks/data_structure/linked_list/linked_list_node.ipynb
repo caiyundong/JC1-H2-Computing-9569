{
 "cells": [
  {
   "cell_type": "code",
   "execution_count": 4,
   "metadata": {},
   "outputs": [],
   "source": [
    "# a single node in a linked list\n",
    "class node:\n",
    "    def __init__(self, value):\n",
    "        self.value = value\n",
    "        self.next = None"
   ]
  },
  {
   "cell_type": "code",
   "execution_count": 5,
   "metadata": {},
   "outputs": [],
   "source": [
    "class linkedlist:\n",
    "    def __init__(self):\n",
    "        self.head = None\n",
    "        self.tail = None\n",
    "        self.length = 0\n",
    "\n",
    "    def append(self, value):\n",
    "        print(\"Adding a new node with value: \", value)\n",
    "\n",
    "        new_node = node(value)\n",
    "        if self.length == 0:\n",
    "            self.head = new_node\n",
    "            self.tail = new_node\n",
    "        else:\n",
    "            # add the new node to the tail of the list\n",
    "            self.tail.next = new_node\n",
    "            self.tail = new_node\n",
    "        self.length += 1\n",
    "\n",
    "    def display(self):\n",
    "        current_node = self.head\n",
    "        if current_node is None:\n",
    "            print(\"Linked list is empty\")\n",
    "            return\n",
    "        else:\n",
    "            print(\"Displaying the linked list in order: \")\n",
    "            while current_node is not None:\n",
    "                print(current_node.value)\n",
    "                current_node = current_node.next\n",
    "\n",
    "    def remove(self, value):\n",
    "        if self.length == 0:\n",
    "            print(\"Linked list is empty\")\n",
    "            return\n",
    "        else:\n",
    "            current_node = self.head\n",
    "            previous_node = None\n",
    "            while current_node is not None:\n",
    "                if current_node.value == value:\n",
    "                    print(\"Node with value: \", value, \"found\")\n",
    "                    break\n",
    "                else:\n",
    "                    previous_node = current_node\n",
    "                    current_node = current_node.next\n",
    "            \n",
    "            if current_node is None:\n",
    "                print(\"Node with value: \", value, \"not found\")\n",
    "                return\n",
    "            \n",
    "            print(\"Removing the node with value: \", value)\n",
    "            if previous_node is None:\n",
    "                # remove the first node\n",
    "                self.head = current_node.next\n",
    "            else:\n",
    "                previous_node.next = current_node.next\n",
    "            self.length -= 1"
   ]
  },
  {
   "cell_type": "code",
   "execution_count": 6,
   "metadata": {},
   "outputs": [
    {
     "name": "stdout",
     "output_type": "stream",
     "text": [
      "Adding a new node with value:  1\n"
     ]
    },
    {
     "ename": "TypeError",
     "evalue": "node() takes no arguments",
     "output_type": "error",
     "traceback": [
      "\u001b[0;31m---------------------------------------------------------------------------\u001b[0m",
      "\u001b[0;31mTypeError\u001b[0m                                 Traceback (most recent call last)",
      "Cell \u001b[0;32mIn[6], line 11\u001b[0m\n\u001b[1;32m      8\u001b[0m     linked_list\u001b[38;5;241m.\u001b[39mdisplay()\n\u001b[1;32m     10\u001b[0m \u001b[38;5;28;01mif\u001b[39;00m \u001b[38;5;18m__name__\u001b[39m \u001b[38;5;241m==\u001b[39m \u001b[38;5;124m\"\u001b[39m\u001b[38;5;124m__main__\u001b[39m\u001b[38;5;124m\"\u001b[39m:\n\u001b[0;32m---> 11\u001b[0m     \u001b[43mmain\u001b[49m\u001b[43m(\u001b[49m\u001b[43m)\u001b[49m\n",
      "Cell \u001b[0;32mIn[6], line 3\u001b[0m, in \u001b[0;36mmain\u001b[0;34m()\u001b[0m\n\u001b[1;32m      1\u001b[0m \u001b[38;5;28;01mdef\u001b[39;00m \u001b[38;5;21mmain\u001b[39m():\n\u001b[1;32m      2\u001b[0m     linked_list \u001b[38;5;241m=\u001b[39m linkedlist()\n\u001b[0;32m----> 3\u001b[0m     \u001b[43mlinked_list\u001b[49m\u001b[38;5;241;43m.\u001b[39;49m\u001b[43mappend\u001b[49m\u001b[43m(\u001b[49m\u001b[38;5;241;43m1\u001b[39;49m\u001b[43m)\u001b[49m\n\u001b[1;32m      4\u001b[0m     linked_list\u001b[38;5;241m.\u001b[39mappend(\u001b[38;5;241m2\u001b[39m)\n\u001b[1;32m      5\u001b[0m     linked_list\u001b[38;5;241m.\u001b[39mappend(\u001b[38;5;241m3\u001b[39m)\n",
      "Cell \u001b[0;32mIn[5], line 10\u001b[0m, in \u001b[0;36mlinkedlist.append\u001b[0;34m(self, value)\u001b[0m\n\u001b[1;32m      7\u001b[0m \u001b[38;5;28;01mdef\u001b[39;00m \u001b[38;5;21mappend\u001b[39m(\u001b[38;5;28mself\u001b[39m, value):\n\u001b[1;32m      8\u001b[0m     \u001b[38;5;28mprint\u001b[39m(\u001b[38;5;124m\"\u001b[39m\u001b[38;5;124mAdding a new node with value: \u001b[39m\u001b[38;5;124m\"\u001b[39m, value)\n\u001b[0;32m---> 10\u001b[0m     new_node \u001b[38;5;241m=\u001b[39m \u001b[43mnode\u001b[49m\u001b[43m(\u001b[49m\u001b[43mvalue\u001b[49m\u001b[43m)\u001b[49m\n\u001b[1;32m     11\u001b[0m     \u001b[38;5;28;01mif\u001b[39;00m \u001b[38;5;28mself\u001b[39m\u001b[38;5;241m.\u001b[39mlength \u001b[38;5;241m==\u001b[39m \u001b[38;5;241m0\u001b[39m:\n\u001b[1;32m     12\u001b[0m         \u001b[38;5;28mself\u001b[39m\u001b[38;5;241m.\u001b[39mhead \u001b[38;5;241m=\u001b[39m new_node\n",
      "\u001b[0;31mTypeError\u001b[0m: node() takes no arguments"
     ]
    }
   ],
   "source": [
    "def main():\n",
    "    linked_list = linkedlist()\n",
    "    linked_list.append(1)\n",
    "    linked_list.append(2)\n",
    "    linked_list.append(3)\n",
    "    linked_list.display()\n",
    "    linked_list.remove(2)\n",
    "    linked_list.display()\n",
    "\n",
    "if __name__ == \"__main__\":\n",
    "    main()"
   ]
  }
 ],
 "metadata": {
  "kernelspec": {
   "display_name": "Python 3",
   "language": "python",
   "name": "python3"
  },
  "language_info": {
   "codemirror_mode": {
    "name": "ipython",
    "version": 3
   },
   "file_extension": ".py",
   "mimetype": "text/x-python",
   "name": "python",
   "nbconvert_exporter": "python",
   "pygments_lexer": "ipython3",
   "version": "3.11.11"
  }
 },
 "nbformat": 4,
 "nbformat_minor": 2
}
