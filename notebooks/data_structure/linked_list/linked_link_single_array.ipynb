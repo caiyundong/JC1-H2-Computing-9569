{
 "cells": [
  {
   "cell_type": "markdown",
   "metadata": {},
   "source": [
    "Create a linked list that items are inserted in asceding order.\n",
    "\n",
    "Insert:\n",
    "1. Full\n",
    "2. Empty\n",
    "3. Insert at the first node (prev is None)\n",
    "4. Insert at other position"
   ]
  },
  {
   "cell_type": "code",
   "execution_count": 2,
   "metadata": {},
   "outputs": [],
   "source": [
    "class node:\n",
    "\tdef __init__(self, data, next):\n",
    "\t\tself.data = data\n",
    "\t\tself.next = next"
   ]
  },
  {
   "cell_type": "code",
   "execution_count": 9,
   "metadata": {},
   "outputs": [],
   "source": [
    "class linkedlist:\n",
    "\tdef __init__(self, size=10):\n",
    "\t\tself.size = size\n",
    "\t\tself._start = 0\n",
    "\t\tself._nextfree = 1\n",
    "\t\tself._LL = [None] * (self.size + 1)\n",
    "\n",
    "\t\tfor i in range(1, self.size):\n",
    "\t\t\tself._LL[i] = node(\"\", i + 1)\n",
    "\t\t\t\n",
    "\t\tself._LL[self.size] = node(\"\", 0)       # last node, set next to 0\n",
    "\n",
    "\n",
    "\tdef add(self, value):\n",
    "\t\t# case 1 - full size\n",
    "\t\tif self._nextfree == 0:\n",
    "\t\t\tprint(\"Linked list is full!\")\n",
    "\t\t\treturn\n",
    "\t\telse:\n",
    "\t\t\ttarget = self._nextfree # where to insert the value\n",
    "\t\t\tself._LL[target].data = value\n",
    "\t\t\tself._nextfree = self._LL[target].next\n",
    "\n",
    "\t\t\t# case 2 - empty list   \n",
    "\t\t\tif self._start == 0:\n",
    "\t\t\t\tself._start = target\n",
    "\t\t\t\tself._LL[target].next = 0\n",
    "\t\t\telse:\n",
    "\t\t\t\t# case 3 - tranverse based on the ascending order\n",
    "\t\t\t\tcurr = self._start\n",
    "\t\t\t\tprev = curr\n",
    "\n",
    "\t\t\t\twhile curr != 0 and value > self._LL[curr].data:\n",
    "\t\t\t\t\tprev = curr\n",
    "\t\t\t\t\tcurr = self._LL[curr].next\n",
    "\n",
    "\t\t\t\tif curr == self._start:\n",
    "\t\t\t\t\tself._LL[target].next = self._start\n",
    "\t\t\t\t\tself._start = target\n",
    "\n",
    "\t\t\t\telse:\n",
    "\t\t\t\t\tself._LL[prev].next = target\n",
    "\t\t\t\t\tself._LL[target].next = curr\n",
    "\n",
    "\tdef display(self):\n",
    "\t\tprint(\"Start:\", self._start)\n",
    "\t\tprint(\"Next free:\", self._nextfree)\n",
    "\t\tprint(\"Printing in index order:\")\n",
    "\n",
    "\t\tprint(\"{:<10}{:<10}{:<10}\".format(\"Index\", \"Data\", \"Next\"))\n",
    "\n",
    "\t\tfor i in range(1, self.size + 1):\n",
    "\t\t\tdata = self._LL[i].data\n",
    "\t\t\tnext = self._LL[i].next\n",
    "\t\t\tprint(\"{:<10}{:<10}{:<10}\".format(i, data, next))\n",
    "\n",
    "\tdef traverse(self):\n",
    "\t\tprint(\"Traversing in order:\")\n",
    "\n",
    "\t\tcurr = self._start\n",
    "\n",
    "\t\twhile curr != 0:\n",
    "\t\t\tprint(self._LL[curr].data, end = \" \")\n",
    "\t\t\tcurr = self._LL[curr].next\n",
    "\n",
    "\t\tprint()\n"
   ]
  },
  {
   "cell_type": "code",
   "execution_count": 10,
   "metadata": {},
   "outputs": [
    {
     "name": "stdout",
     "output_type": "stream",
     "text": [
      "Start: 4\n",
      "Next free: 6\n",
      "Printing in index order:\n",
      "Index     Data      Next      \n",
      "1         m         5         \n",
      "2         k         1         \n",
      "3         j         2         \n",
      "4         a         3         \n",
      "5         x         0         \n",
      "6                   7         \n",
      "7                   8         \n",
      "8                   9         \n",
      "9                   10        \n",
      "10                  0         \n",
      "Traversing in order:\n",
      "a j k m x \n"
     ]
    }
   ],
   "source": [
    "def main():\n",
    "\tmylist = linkedlist(10)\n",
    "\n",
    "\tvalues = [\"m\", \"k\", \"j\", \"a\", \"x\"]\n",
    "\tfor value in values:\n",
    "\t\tmylist.add(value)\n",
    "\n",
    "\tmylist.display()\n",
    "\tmylist.traverse()\n",
    "\n",
    "main()"
   ]
  }
 ],
 "metadata": {
  "kernelspec": {
   "display_name": "Python 3",
   "language": "python",
   "name": "python3"
  },
  "language_info": {
   "codemirror_mode": {
    "name": "ipython",
    "version": 3
   },
   "file_extension": ".py",
   "mimetype": "text/x-python",
   "name": "python",
   "nbconvert_exporter": "python",
   "pygments_lexer": "ipython3",
   "version": "3.11.11"
  }
 },
 "nbformat": 4,
 "nbformat_minor": 2
}
