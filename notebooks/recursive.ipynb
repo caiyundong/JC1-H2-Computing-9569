{
 "cells": [
  {
   "cell_type": "markdown",
   "metadata": {},
   "source": [
    "Q1. This recursive function takes a string and returns the string in reverse order.\n",
    "Example: 'abcde' -> 'edcba'"
   ]
  },
  {
   "cell_type": "code",
   "execution_count": null,
   "metadata": {
    "vscode": {
     "languageId": "plaintext"
    }
   },
   "outputs": [],
   "source": [
    "def reverse_str(s):\n",
    "    pass\n",
    "\n",
    "print(reverse_str(\"abcde\"))"
   ]
  },
  {
   "cell_type": "markdown",
   "metadata": {},
   "source": [
    "Q2: This recursive function calculates the sum of digits of a positive integer."
   ]
  },
  {
   "cell_type": "code",
   "execution_count": null,
   "metadata": {
    "vscode": {
     "languageId": "plaintext"
    }
   },
   "outputs": [],
   "source": [
    "def sum_digits(num):\n",
    "    pass\n",
    "\n",
    "print(sum_digits(12345)) # 15"
   ]
  },
  {
   "cell_type": "markdown",
   "metadata": {},
   "source": [
    "Q3: A factorial calculation can be defined recursively, N! = N * (N-1) * .. * 1"
   ]
  },
  {
   "cell_type": "code",
   "execution_count": null,
   "metadata": {
    "vscode": {
     "languageId": "plaintext"
    }
   },
   "outputs": [],
   "source": [
    "def factorial(N):\n",
    "    pass\n",
    "\n",
    "print(factorial(4))"
   ]
  },
  {
   "cell_type": "markdown",
   "metadata": {},
   "source": [
    "Q4: A fibonacci number is defined as follows:\n",
    "* fibonacci(0) = 0\n",
    "* fibonacci(1) = 1\n",
    "* fibonacci(n) = fibonacci(n – 1) + fibonacci(n – 2)\n",
    "\n",
    "Write a recursive function to find out the fibonacci number of n"
   ]
  },
  {
   "cell_type": "code",
   "execution_count": null,
   "metadata": {
    "vscode": {
     "languageId": "plaintext"
    }
   },
   "outputs": [],
   "source": [
    "def fibonacci(n):\n",
    "    pass\n",
    "\n",
    "print(fibonacci(4))"
   ]
  },
  {
   "cell_type": "markdown",
   "metadata": {},
   "source": [
    "Q5: Optimize the fibonacci recursive function, such that calculated result will not be computed again."
   ]
  },
  {
   "cell_type": "markdown",
   "metadata": {},
   "source": [
    "def optimized_fibonacci(n):\n",
    "    pass"
   ]
  },
  {
   "cell_type": "markdown",
   "metadata": {},
   "source": [
    "Q6: A string is a palindrome if it is identical forward and backward. For examples,\n",
    "\"civic\", \"level\", \"solos\", \"madam\", \"racecar\". Write a recursive program that reads\n",
    "a string from the user and determines whether or not it is a palindrome.\n"
   ]
  },
  {
   "cell_type": "code",
   "execution_count": null,
   "metadata": {
    "vscode": {
     "languageId": "plaintext"
    }
   },
   "outputs": [],
   "source": [
    "def is_palindrome():\n",
    "    pass"
   ]
  }
 ],
 "metadata": {
  "language_info": {
   "name": "python"
  }
 },
 "nbformat": 4,
 "nbformat_minor": 2
}
